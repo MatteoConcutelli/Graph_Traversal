{
 "cells": [
  {
   "cell_type": "code",
   "execution_count": 1,
   "id": "5c228a08",
   "metadata": {},
   "outputs": [],
   "source": [
    "# the nodes must have indexes and have to be ordered by those. \n",
    "# the indexes start from 0 and must be contiguous\n",
    "\n",
    "    # [id, adiacent nodes, mark, pre, post]\n",
    "G = [ [0, [1,2], None, None, None], [1, [2, 5], None, None , None], \n",
    "      [2, [], None, None, None], [3, [2], None, None, None], \n",
    "      [4, [3,5], None, None, None], [5, [0, 4], None, None, None] ]"
   ]
  },
  {
   "attachments": {
    "image.png": {
     "image/png": "[encoded data removed]"
    }
   },
   "cell_type": "markdown",
   "id": "cf2739c6",
   "metadata": {},
   "source": [
    "![image.png](attachment:image.png)"
   ]
  },
  {
   "cell_type": "code",
   "execution_count": 2,
   "id": "f0d872ee",
   "metadata": {},
   "outputs": [],
   "source": [
    "import copy"
   ]
  },
  {
   "cell_type": "code",
   "execution_count": 3,
   "id": "706586e0",
   "metadata": {},
   "outputs": [],
   "source": [
    "def reverse( G ) :\n",
    "    \n",
    "    G_rev = copy.deepcopy(G)\n",
    "    \n",
    "    for nodo in G_rev :\n",
    "        nodo[1].clear()\n",
    "    \n",
    "    #arco (u,v) \n",
    "    \n",
    "    i = 0\n",
    "    for u in G :\n",
    "        j = 0\n",
    "        for v in u[1] :\n",
    "            G_rev[v][1].append(i)\n",
    "            j += 1\n",
    "        i += 1\n",
    "        \n",
    "    return G_rev"
   ]
  },
  {
   "cell_type": "code",
   "execution_count": 4,
   "id": "9e57901c",
   "metadata": {},
   "outputs": [
    {
     "data": {
      "text/plain": [
       "[[0, [5], None, None, None],\n",
       " [1, [0], None, None, None],\n",
       " [2, [0, 1, 3], None, None, None],\n",
       " [3, [4], None, None, None],\n",
       " [4, [5], None, None, None],\n",
       " [5, [1, 4], None, None, None]]"
      ]
     },
     "execution_count": 4,
     "metadata": {},
     "output_type": "execute_result"
    }
   ],
   "source": [
    "G_rev = reverse(G)\n",
    "G_rev"
   ]
  },
  {
   "cell_type": "code",
   "execution_count": 5,
   "id": "82485fad",
   "metadata": {},
   "outputs": [],
   "source": [
    "def visitDFSRecursive( G, s, T) :\n",
    "    G[s][2] = 'm'\n",
    "    for ad_node in G[s][1] :\n",
    "        if ( G[ad_node][2] == None):\n",
    "            T.append((G[ad_node][0], s))\n",
    "            visitDFSRecursive(G, ad_node, T)"
   ]
  },
  {
   "cell_type": "code",
   "execution_count": 6,
   "id": "9c96e7cd",
   "metadata": {},
   "outputs": [],
   "source": [
    "def visitDFSRInt( G, s ) :\n",
    "    T = [(G[s][0], None)]\n",
    "    visitDFSRecursive( G, s, T)\n",
    "    return T    # depth tree father's vector"
   ]
  },
  {
   "cell_type": "code",
   "execution_count": 7,
   "id": "95ba1083",
   "metadata": {},
   "outputs": [],
   "source": [
    "global clock \n",
    "clock = 1\n",
    "\n",
    "def visitDFSRClock( G, s, T) :\n",
    "    global clock\n",
    "    G[s][2] = 'm'\n",
    "    G[s][3] = clock   # pre\n",
    "    clock =  clock + 1\n",
    "\n",
    "    for ad_node in G[s][1] :\n",
    "        if ( G[ad_node][2] == None):\n",
    "            T.append((G[ad_node][0], s))\n",
    "            visitDFSRClock(G, ad_node, T)\n",
    "            \n",
    "    G[s][4] = clock   # post\n",
    "    clock = clock + 1"
   ]
  },
  {
   "cell_type": "code",
   "execution_count": 8,
   "id": "eaa21e5b",
   "metadata": {},
   "outputs": [],
   "source": [
    "def interfaceDFSRC ( G, s) :\n",
    "    T = [(G[s][0], None)]\n",
    "    visitDFSRClock(G, s, T)\n",
    "    return T"
   ]
  },
  {
   "cell_type": "code",
   "execution_count": 9,
   "id": "08189625",
   "metadata": {},
   "outputs": [],
   "source": [
    "def DFSRCnotConnected ( G, s) :\n",
    "    F = []    # forest of trees in father's vector form\n",
    "    \n",
    "    clock = 1\n",
    "    for node in G :\n",
    "        if ( node[2] == None):\n",
    "            T = interfaceDFSRC(G, node[0])\n",
    "            F.append(T)\n",
    "            \n",
    "    return F"
   ]
  },
  {
   "cell_type": "markdown",
   "id": "7b47d613",
   "metadata": {},
   "source": [
    "# strongly connected components"
   ]
  },
  {
   "cell_type": "code",
   "execution_count": 10,
   "id": "af0869a9",
   "metadata": {},
   "outputs": [],
   "source": [
    "def key_post (node) :\n",
    "    return node[4]\n",
    "\n",
    "def connectedComp ( G ) :\n",
    "    for node in G :\n",
    "        nodoe[2] = None\n",
    "    \n",
    "    Comp = []\n",
    "    \n",
    "    G_2 = copy.deepcopy(G)\n",
    "    G_2.sort(reverse = True, key = key_post)\n",
    "    \n",
    "    for node in G_2 :\n",
    "        print(node[0])\n",
    "        if ( G[node[0]][2] == None) :\n",
    "            T = visitDFSRInt(G, node[0])\n",
    "            Comp.append(T)\n",
    "    \n",
    "    return Comp"
   ]
  },
  {
   "cell_type": "code",
   "execution_count": 11,
   "id": "4a65351d",
   "metadata": {},
   "outputs": [],
   "source": [
    "def visit_DFS ( G ) :\n",
    "    G_rev = reverse(G)\n",
    "    DFSRCnotConnected(G_rev, 0)\n",
    "    G = reverse(G_rev)\n",
    "    \n",
    "    return connectedComp( G )"
   ]
  },
  {
   "cell_type": "code",
   "execution_count": 12,
   "id": "21476f41",
   "metadata": {},
   "outputs": [
    {
     "name": "stdout",
     "output_type": "stream",
     "text": [
      "2\n",
      "3\n",
      "0\n",
      "5\n",
      "4\n",
      "1\n"
     ]
    },
    {
     "data": {
      "text/plain": [
       "[[(2, None)], [(3, None)], [(0, None), (1, 0), (5, 1), (4, 5)]]"
      ]
     },
     "execution_count": 12,
     "metadata": {},
     "output_type": "execute_result"
    }
   ],
   "source": [
    "visit_DFS( G )"
   ]
  },
  {
   "cell_type": "code",
   "execution_count": 13,
   "id": "56aae3fa",
   "metadata": {},
   "outputs": [
    {
     "data": {
      "text/plain": [
       "[[0, [1, 2], None, None, None],\n",
       " [1, [2, 5], None, None, None],\n",
       " [2, [], None, None, None],\n",
       " [3, [2], None, None, None],\n",
       " [4, [3, 5], None, None, None],\n",
       " [5, [0, 4], None, None, None]]"
      ]
     },
     "execution_count": 13,
     "metadata": {},
     "output_type": "execute_result"
    }
   ],
   "source": [
    "G"
   ]
  },
  {
   "cell_type": "code",
   "execution_count": null,
   "id": "f0dd7529",
   "metadata": {},
   "outputs": [],
   "source": []
  }
 ],
 "metadata": {
  "kernelspec": {
   "display_name": "Python 3",
   "language": "python",
   "name": "python3"
  },
  "language_info": {
   "codemirror_mode": {
    "name": "ipython",
    "version": 3
   },
   "file_extension": ".py",
   "mimetype": "text/x-python",
   "name": "python",
   "nbconvert_exporter": "python",
   "pygments_lexer": "ipython3",
   "version": "3.8.5"
  }
 },
 "nbformat": 4,
 "nbformat_minor": 5
}
