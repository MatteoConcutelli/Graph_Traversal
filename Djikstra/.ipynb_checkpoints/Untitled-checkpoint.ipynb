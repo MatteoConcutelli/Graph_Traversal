{
 "cells": [
  {
   "cell_type": "code",
   "execution_count": 1,
   "id": "3c831880",
   "metadata": {},
   "outputs": [],
   "source": [
    "from fibheap import *"
   ]
  },
  {
   "cell_type": "code",
   "execution_count": 2,
   "id": "ba479b38",
   "metadata": {},
   "outputs": [],
   "source": [
    "f = FibonacciHeap()"
   ]
  },
  {
   "cell_type": "code",
   "execution_count": 3,
   "id": "b7f4e14d",
   "metadata": {},
   "outputs": [
    {
     "data": {
      "text/plain": [
       "<fibheap.FibonacciHeap.Node at 0x267d8645610>"
      ]
     },
     "execution_count": 3,
     "metadata": {},
     "output_type": "execute_result"
    }
   ],
   "source": [
    "f.insert(1, 10)\n",
    "f.insert(1,2)"
   ]
  },
  {
   "cell_type": "code",
   "execution_count": 4,
   "id": "77889f92",
   "metadata": {},
   "outputs": [],
   "source": [
    "m = f.extract_min()"
   ]
  },
  {
   "cell_type": "code",
   "execution_count": 5,
   "id": "1f5ebc9c",
   "metadata": {},
   "outputs": [
    {
     "data": {
      "text/plain": [
       "1"
      ]
     },
     "execution_count": 5,
     "metadata": {},
     "output_type": "execute_result"
    }
   ],
   "source": [
    "m.key"
   ]
  },
  {
   "cell_type": "code",
   "execution_count": 8,
   "id": "e2a85b79",
   "metadata": {},
   "outputs": [],
   "source": [
    "# Si vuole che i nodi abbiano indici e che siano ordinati in base a questi. \n",
    "# Gli indici devono partire da 0 e devono essere contigui\n",
    "\n",
    "    # [id, (nodo_ad, peso_arco) , stima, pre, post]\n",
    "G = [ [0, [(1, 2),(2, 5)], None, None, None], [1, [(2, 4), (5, 1)], None, None , None], \n",
    "      [2, [], None, None, None], [3, [(2,7)], None, None, None], \n",
    "      [4, [(3, 3),(5,4)], None, None, None], [5, [(0,2), (4,1)], None, None, None] ]"
   ]
  },
  {
   "cell_type": "markdown",
   "id": "e22f0c71",
   "metadata": {},
   "source": [
    "# Djikstra"
   ]
  },
  {
   "cell_type": "code",
   "execution_count": 9,
   "id": "2ec98d5a",
   "metadata": {},
   "outputs": [],
   "source": [
    "def djikstra( G, s) :\n",
    "    for nodo in G : G[s][2] = None    # infinito\n",
    "        \n",
    "    T = [G[s]]\n",
    "    C = FibonacciHeap()\n",
    "    G[s][2] = 0\n",
    "    C.insert(G[s][0], G[s][2])\n",
    "    \n",
    "    while C.total_nodes > 0 :\n",
    "        u = C.extract_min()\n",
    "        for nodo_ad in G[u.key][1] :\n",
    "            if G[nodo_ad[0]][2] == None :\n",
    "                G[nodo_ad[0]][2] = G[u.key][2] + G[u.key][1][1]    # stima\n",
    "                C.insert(G[nodo_ad], G[nodo_ad][2])\n",
    "                T.append(G[nodo_ad[0]], u.key[0])\n",
    "                \n",
    "            elif G[nodo_ad][2] > u.key[2] + u.key[1][1] :\n",
    "                C.decrease_key(G[nodo_ad], G[nodo_ad][2] - (u[2] + u.key[1][1] ) )\n",
    "                G[nodo_ad][2] = u.key[2] + u.key[1][1]\n",
    "                nodo = [ (x,y) for x, y in T if x  == G[nodo_ad[0]] ] \n",
    "                nodo = (G[nodo_ad[0]], u.key[0])\n",
    "                \n",
    "    return T"
   ]
  },
  {
   "cell_type": "code",
   "execution_count": 10,
   "id": "9129ac2e",
   "metadata": {},
   "outputs": [
    {
     "ename": "TypeError",
     "evalue": "'int' object is not subscriptable",
     "output_type": "error",
     "traceback": [
      "\u001b[1;31m---------------------------------------------------------------------------\u001b[0m",
      "\u001b[1;31mTypeError\u001b[0m                                 Traceback (most recent call last)",
      "\u001b[1;32m<ipython-input-10-e1cb111e9676>\u001b[0m in \u001b[0;36m<module>\u001b[1;34m\u001b[0m\n\u001b[1;32m----> 1\u001b[1;33m \u001b[0mdjikstra\u001b[0m \u001b[1;33m(\u001b[0m \u001b[0mG\u001b[0m\u001b[1;33m,\u001b[0m \u001b[1;36m0\u001b[0m\u001b[1;33m)\u001b[0m\u001b[1;33m\u001b[0m\u001b[1;33m\u001b[0m\u001b[0m\n\u001b[0m",
      "\u001b[1;32m<ipython-input-9-260a20a9c05e>\u001b[0m in \u001b[0;36mdjikstra\u001b[1;34m(G, s)\u001b[0m\n\u001b[0;32m     11\u001b[0m         \u001b[1;32mfor\u001b[0m \u001b[0mnodo_ad\u001b[0m \u001b[1;32min\u001b[0m \u001b[0mG\u001b[0m\u001b[1;33m[\u001b[0m\u001b[0mu\u001b[0m\u001b[1;33m.\u001b[0m\u001b[0mkey\u001b[0m\u001b[1;33m]\u001b[0m\u001b[1;33m[\u001b[0m\u001b[1;36m1\u001b[0m\u001b[1;33m]\u001b[0m \u001b[1;33m:\u001b[0m\u001b[1;33m\u001b[0m\u001b[1;33m\u001b[0m\u001b[0m\n\u001b[0;32m     12\u001b[0m             \u001b[1;32mif\u001b[0m \u001b[0mG\u001b[0m\u001b[1;33m[\u001b[0m\u001b[0mnodo_ad\u001b[0m\u001b[1;33m[\u001b[0m\u001b[1;36m0\u001b[0m\u001b[1;33m]\u001b[0m\u001b[1;33m]\u001b[0m\u001b[1;33m[\u001b[0m\u001b[1;36m2\u001b[0m\u001b[1;33m]\u001b[0m \u001b[1;33m==\u001b[0m \u001b[1;32mNone\u001b[0m \u001b[1;33m:\u001b[0m\u001b[1;33m\u001b[0m\u001b[1;33m\u001b[0m\u001b[0m\n\u001b[1;32m---> 13\u001b[1;33m                 \u001b[0mG\u001b[0m\u001b[1;33m[\u001b[0m\u001b[0mnodo_ad\u001b[0m\u001b[1;33m]\u001b[0m\u001b[1;33m[\u001b[0m\u001b[1;36m2\u001b[0m\u001b[1;33m]\u001b[0m \u001b[1;33m=\u001b[0m \u001b[0mu\u001b[0m\u001b[1;33m.\u001b[0m\u001b[0mkey\u001b[0m\u001b[1;33m[\u001b[0m\u001b[1;36m2\u001b[0m\u001b[1;33m]\u001b[0m \u001b[1;33m+\u001b[0m \u001b[0mu\u001b[0m\u001b[1;33m.\u001b[0m\u001b[0mkey\u001b[0m\u001b[1;33m[\u001b[0m\u001b[1;36m1\u001b[0m\u001b[1;33m]\u001b[0m\u001b[1;33m[\u001b[0m\u001b[1;36m1\u001b[0m\u001b[1;33m]\u001b[0m    \u001b[1;31m# stima\u001b[0m\u001b[1;33m\u001b[0m\u001b[1;33m\u001b[0m\u001b[0m\n\u001b[0m\u001b[0;32m     14\u001b[0m                 \u001b[0mC\u001b[0m\u001b[1;33m.\u001b[0m\u001b[0minsert\u001b[0m\u001b[1;33m(\u001b[0m\u001b[0mG\u001b[0m\u001b[1;33m[\u001b[0m\u001b[0mnodo_ad\u001b[0m\u001b[1;33m]\u001b[0m\u001b[1;33m,\u001b[0m \u001b[0mG\u001b[0m\u001b[1;33m[\u001b[0m\u001b[0mnodo_ad\u001b[0m\u001b[1;33m]\u001b[0m\u001b[1;33m[\u001b[0m\u001b[1;36m2\u001b[0m\u001b[1;33m]\u001b[0m\u001b[1;33m)\u001b[0m\u001b[1;33m\u001b[0m\u001b[1;33m\u001b[0m\u001b[0m\n\u001b[0;32m     15\u001b[0m                 \u001b[0mT\u001b[0m\u001b[1;33m.\u001b[0m\u001b[0mappend\u001b[0m\u001b[1;33m(\u001b[0m\u001b[0mG\u001b[0m\u001b[1;33m[\u001b[0m\u001b[0mnodo_ad\u001b[0m\u001b[1;33m[\u001b[0m\u001b[1;36m0\u001b[0m\u001b[1;33m]\u001b[0m\u001b[1;33m]\u001b[0m\u001b[1;33m,\u001b[0m \u001b[0mu\u001b[0m\u001b[1;33m.\u001b[0m\u001b[0mkey\u001b[0m\u001b[1;33m[\u001b[0m\u001b[1;36m0\u001b[0m\u001b[1;33m]\u001b[0m\u001b[1;33m)\u001b[0m\u001b[1;33m\u001b[0m\u001b[1;33m\u001b[0m\u001b[0m\n",
      "\u001b[1;31mTypeError\u001b[0m: 'int' object is not subscriptable"
     ]
    }
   ],
   "source": [
    "djikstra ( G, 0)"
   ]
  },
  {
   "cell_type": "code",
   "execution_count": null,
   "id": "0e99d307",
   "metadata": {},
   "outputs": [],
   "source": []
  }
 ],
 "metadata": {
  "kernelspec": {
   "display_name": "Python 3",
   "language": "python",
   "name": "python3"
  },
  "language_info": {
   "codemirror_mode": {
    "name": "ipython",
    "version": 3
   },
   "file_extension": ".py",
   "mimetype": "text/x-python",
   "name": "python",
   "nbconvert_exporter": "python",
   "pygments_lexer": "ipython3",
   "version": "3.8.5"
  }
 },
 "nbformat": 4,
 "nbformat_minor": 5
}
