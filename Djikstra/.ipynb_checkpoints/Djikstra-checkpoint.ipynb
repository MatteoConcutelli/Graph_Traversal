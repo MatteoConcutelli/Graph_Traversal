{
 "cells": [
  {
   "cell_type": "code",
   "execution_count": 1,
   "id": "3c831880",
   "metadata": {},
   "outputs": [],
   "source": [
    "from fibheap import *"
   ]
  },
  {
   "cell_type": "code",
   "execution_count": 2,
   "id": "e2a85b79",
   "metadata": {},
   "outputs": [],
   "source": [
    "# Si vuole che i nodi abbiano indici e che siano ordinati in base a questi. \n",
    "# Gli indici devono partire da 0 e devono essere contigui\n",
    "\n",
    "    # [id, (nodo_ad, peso_arco) , stima, pre, post]\n",
    "G = [ [0, [(1, 2),(2, 5)], None, None, None], [1, [(2, 4), (5, 1)], None, None , None], \n",
    "      [2, [], None, None, None], [3, [(2,7)], None, None, None], \n",
    "      [4, [(3, 3),(5,4)], None, None, None], [5, [(0,2), (4,1)], None, None, None] ]"
   ]
  },
  {
   "cell_type": "markdown",
   "id": "e22f0c71",
   "metadata": {},
   "source": [
    "# Djikstra"
   ]
  },
  {
   "cell_type": "code",
   "execution_count": 3,
   "id": "2ec98d5a",
   "metadata": {},
   "outputs": [],
   "source": [
    "def djikstra( G, s) :\n",
    "       # nodo , padre\n",
    "    T = [(G[s][0], None)]\n",
    "    C = FibonacciHeap()\n",
    "    G[s][2] = 0\n",
    "    \n",
    "    # dizionario nodoG --> nodoCodaPrio\n",
    "    GCP = []\n",
    "    \n",
    "    for i in range(len(G)):\n",
    "        GCP.append(0)\n",
    "    \n",
    "    GCP[G[s][0]] = C.insert(G[s][2], G[s][0]) #  stima di s, id nodo s (value)\n",
    "    \n",
    "    \n",
    "    while C.total_nodes > 0 :\n",
    "        u = C.extract_min()\n",
    "        for nodo_ad in G[u.value][1]:    # per ogni vicino di u\n",
    "            if G[nodo_ad[0]][2] == None : # vedo se la stima del nodo ad è infinito\n",
    "                G[nodo_ad[0]][2] = G[u.value][2] + nodo_ad[1]    # aggiorna stima = stima u + peso dell'arco (u,nodo_ad)\n",
    "                GCP[nodo_ad[0]] = C.insert(G[nodo_ad[0]][2], G[nodo_ad[0]][0])\n",
    "                T.append( (G[nodo_ad[0]][0], G[u.value][0]) )\n",
    "                \n",
    "            #      stima nodo_ad       stima u    + peso(u,v)\n",
    "            elif G[nodo_ad[0]][2] > G[u.value][2] + nodo_ad[1] :\n",
    "                C.decrease_key(GCP[nodo_ad[0]], G[u.value][2] + nodo_ad[1] )\n",
    "                G[nodo_ad[0]][2] = G[u.value][2] + nodo_ad[1]\n",
    "                \n",
    "    return T"
   ]
  },
  {
   "cell_type": "code",
   "execution_count": 4,
   "id": "9129ac2e",
   "metadata": {},
   "outputs": [
    {
     "data": {
      "text/plain": [
       "[(0, None), (1, 0), (2, 0), (5, 1), (4, 5), (3, 4)]"
      ]
     },
     "execution_count": 4,
     "metadata": {},
     "output_type": "execute_result"
    }
   ],
   "source": [
    "djikstra ( G, 0)"
   ]
  }
 ],
 "metadata": {
  "kernelspec": {
   "display_name": "Python 3",
   "language": "python",
   "name": "python3"
  },
  "language_info": {
   "codemirror_mode": {
    "name": "ipython",
    "version": 3
   },
   "file_extension": ".py",
   "mimetype": "text/x-python",
   "name": "python",
   "nbconvert_exporter": "python",
   "pygments_lexer": "ipython3",
   "version": "3.8.5"
  }
 },
 "nbformat": 4,
 "nbformat_minor": 5
}
