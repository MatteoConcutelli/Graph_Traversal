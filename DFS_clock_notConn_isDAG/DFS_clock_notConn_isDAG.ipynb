{
 "cells": [
  {
   "cell_type": "markdown",
   "id": "3484a2ae",
   "metadata": {},
   "source": [
    "# DFS con clock"
   ]
  },
  {
   "cell_type": "code",
   "execution_count": 1,
   "id": "dd070c2b",
   "metadata": {},
   "outputs": [],
   "source": [
    "# Si vuole che i nodi abbiano indici e che siano ordinati in base a questi. \n",
    "# Gli indici devono partire da 0 e devono essere contigui\n",
    "\n",
    "    # [id, nodi adiacenti, marchio, pre, post]\n",
    "G = [ [0, [1,2], None, None, None], [1, [2, 5], None, None , None], \n",
    "      [2, [], None, None, None], [3, [2], None, None, None], \n",
    "      [4, [3,5], None, None, None], [5, [0, 4], None, None, None] ]"
   ]
  },
  {
   "attachments": {
    "image.png": {
     "image/png": "[encoded data removed]"
    }
   },
   "cell_type": "markdown",
   "id": "7e83e3ec",
   "metadata": {},
   "source": [
    "![image.png](attachment:image.png)\n"
   ]
  },
  {
   "cell_type": "code",
   "execution_count": 6,
   "id": "9bb6d2db",
   "metadata": {},
   "outputs": [],
   "source": [
    "global clock\n",
    "clock = 1\n",
    "\n",
    "def visitaDFSRClock( G, s, T) :\n",
    "    global clock\n",
    "    G[s][2] = 'm'\n",
    "    G[s][3] = clock   # pre\n",
    "    clock =  clock + 1\n",
    "\n",
    "    for nodo_ad in G[s][1] :\n",
    "        if ( G[nodo_ad][2] == None):\n",
    "            T.append((G[nodo_ad][0], s))\n",
    "            visitaDFSRClock(G, nodo_ad, T)\n",
    "            \n",
    "    G[s][4] = clock   # post\n",
    "    clock = clock + 1"
   ]
  },
  {
   "cell_type": "code",
   "execution_count": 10,
   "id": "7b538d51",
   "metadata": {},
   "outputs": [],
   "source": [
    "def interfaceDFSRC ( G, s) :\n",
    "    T = [(G[s][0], None)]\n",
    "    visitaDFSRClock(G, s, T)\n",
    "    return T"
   ]
  },
  {
   "cell_type": "code",
   "execution_count": 11,
   "id": "525499bc",
   "metadata": {},
   "outputs": [
    {
     "data": {
      "text/plain": [
       "[(0, None), (1, 0), (2, 1), (5, 1), (4, 5), (3, 4)]"
      ]
     },
     "execution_count": 11,
     "metadata": {},
     "output_type": "execute_result"
    }
   ],
   "source": [
    "interfaceDFSRC(G, 0)"
   ]
  },
  {
   "cell_type": "code",
   "execution_count": 12,
   "id": "836e0ab0",
   "metadata": {},
   "outputs": [
    {
     "data": {
      "text/plain": [
       "[[0, [1, 2], 'm', 1, 12],\n",
       " [1, [2, 5], 'm', 2, 11],\n",
       " [2, [], 'm', 3, 4],\n",
       " [3, [2], 'm', 7, 8],\n",
       " [4, [3, 5], 'm', 6, 9],\n",
       " [5, [0, 4], 'm', 5, 10]]"
      ]
     },
     "execution_count": 12,
     "metadata": {},
     "output_type": "execute_result"
    }
   ],
   "source": [
    "G"
   ]
  },
  {
   "cell_type": "markdown",
   "id": "e1463fb5",
   "metadata": {},
   "source": [
    "# Grafo non connesso"
   ]
  },
  {
   "cell_type": "code",
   "execution_count": 1,
   "id": "71e65eab",
   "metadata": {},
   "outputs": [],
   "source": [
    "# Si vuole che i nodi abbiano indici e che siano ordinati in base a questi. \n",
    "# Gli indici devono partire da 0 e devono essere contigui\n",
    "\n",
    "    # [id, nodi_adiacenti, marchio, pre, post]\n",
    "G = [ [0, [1,2], None, None, None], [1, [2], None, None , None], \n",
    "      [2, [], None, None, None], [3, [2], None, None, None], \n",
    "      [4, [3,5], None, None, None], [5, [0, 1, 4], None, None, None] ]\n",
    "\n",
    "# ho rigirato l'arco (1,5) "
   ]
  },
  {
   "cell_type": "code",
   "execution_count": 2,
   "id": "329395e0",
   "metadata": {},
   "outputs": [],
   "source": [
    "global clock \n",
    "clock = 1\n",
    "\n",
    "def visitaDFSRClock( G, s, T) :\n",
    "    global clock\n",
    "    G[s][2] = 'm'\n",
    "    G[s][3] = clock   # pre\n",
    "    clock =  clock + 1\n",
    "\n",
    "    for nodo_ad in G[s][1] :\n",
    "        if ( G[nodo_ad][2] == None):\n",
    "            T.append((G[nodo_ad][0], s))\n",
    "            visitaDFSRClock(G, nodo_ad, T)\n",
    "            \n",
    "    G[s][4] = clock   # post\n",
    "    clock = clock + 1"
   ]
  },
  {
   "cell_type": "code",
   "execution_count": 3,
   "id": "ab21edf0",
   "metadata": {},
   "outputs": [],
   "source": [
    "def interfaceDFSRC ( G, s) :\n",
    "    T = [(G[s][0], None)]\n",
    "    visitaDFSRClock(G, s, T)\n",
    "    return T"
   ]
  },
  {
   "cell_type": "code",
   "execution_count": 4,
   "id": "05e6d814",
   "metadata": {},
   "outputs": [],
   "source": [
    "def DFSRCnotConnected ( G, s) :\n",
    "    F = []    # foresta di alberi in forma di vettori dei padri\n",
    "    \n",
    "    clock = 1\n",
    "    for nodo in G :\n",
    "        if ( nodo[2] == None):\n",
    "            T = interfaceDFSRC(G, nodo[0])\n",
    "            F.append(T)\n",
    "            \n",
    "    return F"
   ]
  },
  {
   "cell_type": "code",
   "execution_count": 5,
   "id": "e59e892c",
   "metadata": {},
   "outputs": [
    {
     "data": {
      "text/plain": [
       "[[(0, None), (1, 0), (2, 1)], [(3, None)], [(4, None), (5, 4)]]"
      ]
     },
     "execution_count": 5,
     "metadata": {},
     "output_type": "execute_result"
    }
   ],
   "source": [
    "DFSRCnotConnected(G, 0)"
   ]
  },
  {
   "cell_type": "code",
   "execution_count": 6,
   "id": "8e6c0344",
   "metadata": {},
   "outputs": [
    {
     "data": {
      "text/plain": [
       "[[0, [1, 2], 'm', 1, 6],\n",
       " [1, [2], 'm', 2, 5],\n",
       " [2, [], 'm', 3, 4],\n",
       " [3, [2], 'm', 7, 8],\n",
       " [4, [3, 5], 'm', 9, 12],\n",
       " [5, [0, 1, 4], 'm', 10, 11]]"
      ]
     },
     "execution_count": 6,
     "metadata": {},
     "output_type": "execute_result"
    }
   ],
   "source": [
    "G"
   ]
  },
  {
   "cell_type": "markdown",
   "id": "72f347ab",
   "metadata": {},
   "source": [
    "# Dag ?"
   ]
  },
  {
   "cell_type": "code",
   "execution_count": 9,
   "id": "402cbc4a",
   "metadata": {},
   "outputs": [],
   "source": [
    "# vuole G con pre e post impostati\n",
    "\n",
    "def isDAG ( G ) :\n",
    "    for u in G :\n",
    "        if ( u[2] != None) :    # non voglio pre e post = None ( controllo se è marcato )\n",
    "            pre = u[3]\n",
    "            post = u[4]\n",
    "            for v in u[1]:    # arco (u,v)\n",
    "                if ( pre > G[v][3] and post < G[v][4]) :\n",
    "                    return False\n",
    "        \n",
    "    return True"
   ]
  },
  {
   "cell_type": "code",
   "execution_count": 11,
   "id": "b4bac07a",
   "metadata": {},
   "outputs": [
    {
     "data": {
      "text/plain": [
       "False"
      ]
     },
     "execution_count": 11,
     "metadata": {},
     "output_type": "execute_result"
    }
   ],
   "source": [
    "isDAG(G)"
   ]
  },
  {
   "cell_type": "code",
   "execution_count": null,
   "id": "21d36968",
   "metadata": {},
   "outputs": [],
   "source": []
  }
 ],
 "metadata": {
  "kernelspec": {
   "display_name": "Python 3",
   "language": "python",
   "name": "python3"
  },
  "language_info": {
   "codemirror_mode": {
    "name": "ipython",
    "version": 3
   },
   "file_extension": ".py",
   "mimetype": "text/x-python",
   "name": "python",
   "nbconvert_exporter": "python",
   "pygments_lexer": "ipython3",
   "version": "3.8.5"
  }
 },
 "nbformat": 4,
 "nbformat_minor": 5
}
