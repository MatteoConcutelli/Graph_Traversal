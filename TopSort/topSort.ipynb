{
 "cells": [
  {
   "cell_type": "code",
   "execution_count": 1,
   "id": "2be45d92",
   "metadata": {},
   "outputs": [],
   "source": [
    "# the nodes must have indexes and have to be ordered by those. \n",
    "# the indexes start from 0 and must be contiguous\n",
    "\n",
    "    # [id, adiacent nodes, mark, pre, post]\n",
    "G = [ [0, [1,2], None, None, None], [1, [2, 5], None, None , None], \n",
    "      [2, [], None, None, None], [3, [2], None, None, None], \n",
    "      [4, [3,5], None, None, None], [5, [], None, None, None] ]\n",
    "\n",
    "# I have removed the outgoing edges from node 5 to form a DAG "
   ]
  },
  {
   "cell_type": "code",
   "execution_count": 2,
   "id": "736197b4",
   "metadata": {},
   "outputs": [],
   "source": [
    "global clock \n",
    "clock = 1\n",
    "\n",
    "def visitDFSRClock( G, s, T) :\n",
    "    global clock\n",
    "    \n",
    "    G[s][2] = 'm'\n",
    "    G[s][3] = clock   # pre\n",
    "    clock =  clock + 1\n",
    "\n",
    "    for ad_nodo in G[s][1] :\n",
    "        if ( G[ad_nodo][2] == None):\n",
    "            T.append((G[ad_nodo][0], s))\n",
    "            visitDFSRClock(G, ad_nodo, T)\n",
    "            \n",
    "    G[s][4] = clock   # post\n",
    "    clock = clock + 1"
   ]
  },
  {
   "cell_type": "code",
   "execution_count": 3,
   "id": "32175dce",
   "metadata": {},
   "outputs": [],
   "source": [
    "def interfaceDFSRC ( G, s) :\n",
    "    T = [(G[s][0], None)]\n",
    "    visitDFSRClock(G, s, T)\n",
    "    return T"
   ]
  },
  {
   "cell_type": "code",
   "execution_count": 4,
   "id": "9071edbc",
   "metadata": {},
   "outputs": [],
   "source": [
    "def DFSRCnotConnected ( G, s) :\n",
    "    F = []    # forest of trees in father's vector form\n",
    "    n_trees = 0\n",
    "    \n",
    "    clock = 1\n",
    "    for node in G :\n",
    "        if ( nodo[2] == None):\n",
    "            T = interfaceDFSRC(G, node[0])\n",
    "            F.append(T)\n",
    "            n_trees += 1\n",
    "            \n",
    "    return F"
   ]
  },
  {
   "cell_type": "code",
   "execution_count": 5,
   "id": "9c5ce3cb",
   "metadata": {},
   "outputs": [
    {
     "data": {
      "text/plain": [
       "[[(0, None), (1, 0), (2, 1), (5, 1)], [(3, None)], [(4, None)]]"
      ]
     },
     "execution_count": 5,
     "metadata": {},
     "output_type": "execute_result"
    }
   ],
   "source": [
    "DFSRCnotConnected(G, 0)"
   ]
  },
  {
   "cell_type": "code",
   "execution_count": 6,
   "id": "6832d278",
   "metadata": {},
   "outputs": [],
   "source": [
    "# G must have pre and post not null\n",
    "\n",
    "def isDAG ( G ) :\n",
    "    for u in G :\n",
    "        if ( u[2] != None) :    # i dont want pre and post = None ( check if is marked )\n",
    "            pre = u[3]\n",
    "            post = u[4]\n",
    "            for v in u[1]:    # edge (u,v)\n",
    "                if ( pre > G[v][3] and post < G[v][4]) :\n",
    "                    return False\n",
    "        \n",
    "    return True"
   ]
  },
  {
   "cell_type": "code",
   "execution_count": 7,
   "id": "964eeebf",
   "metadata": {},
   "outputs": [
    {
     "data": {
      "text/plain": [
       "True"
      ]
     },
     "execution_count": 7,
     "metadata": {},
     "output_type": "execute_result"
    }
   ],
   "source": [
    "isDAG(G)"
   ]
  },
  {
   "cell_type": "markdown",
   "id": "4c490ac0",
   "metadata": {},
   "source": [
    "# Topological ordering"
   ]
  },
  {
   "cell_type": "code",
   "execution_count": 8,
   "id": "6656d0cb",
   "metadata": {},
   "outputs": [],
   "source": [
    "import copy"
   ]
  },
  {
   "cell_type": "code",
   "execution_count": 13,
   "id": "cfd55d2c",
   "metadata": {},
   "outputs": [],
   "source": [
    "# pre and post setted, i order the list of nodes by post values\n",
    "def key_func (node) :\n",
    "    return node[4]\n",
    "\n",
    "def topSort( G ) :\n",
    "    L = copy.deepcopy(G)\n",
    "    \n",
    "    if ( isDAG(G)) :\n",
    "        L.sort(reverse=True, key=key_func)    # ordina in base al valore di post ( key_func glielo dice)\n",
    "        return L\n",
    "    \n",
    "    return -1\n",
    "        "
   ]
  },
  {
   "cell_type": "code",
   "execution_count": 14,
   "id": "b6f676c5",
   "metadata": {},
   "outputs": [
    {
     "data": {
      "text/plain": [
       "[[4, [3, 5], 'm', 11, 12],\n",
       " [3, [2], 'm', 9, 10],\n",
       " [0, [1, 2], 'm', 1, 8],\n",
       " [1, [2, 5], 'm', 2, 7],\n",
       " [5, [], 'm', 5, 6],\n",
       " [2, [], 'm', 3, 4]]"
      ]
     },
     "execution_count": 14,
     "metadata": {},
     "output_type": "execute_result"
    }
   ],
   "source": [
    "topSort(G)"
   ]
  },
  {
   "cell_type": "code",
   "execution_count": null,
   "id": "26dfd046",
   "metadata": {},
   "outputs": [],
   "source": []
  }
 ],
 "metadata": {
  "kernelspec": {
   "display_name": "Python 3",
   "language": "python",
   "name": "python3"
  },
  "language_info": {
   "codemirror_mode": {
    "name": "ipython",
    "version": 3
   },
   "file_extension": ".py",
   "mimetype": "text/x-python",
   "name": "python",
   "nbconvert_exporter": "python",
   "pygments_lexer": "ipython3",
   "version": "3.8.5"
  }
 },
 "nbformat": 4,
 "nbformat_minor": 5
}
