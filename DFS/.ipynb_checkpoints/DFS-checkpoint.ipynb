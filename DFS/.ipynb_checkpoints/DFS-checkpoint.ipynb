{
 "cells": [
  {
   "cell_type": "markdown",
   "id": "d6dbcaf1",
   "metadata": {},
   "source": [
    "# visita DFS"
   ]
  },
  {
   "cell_type": "code",
   "execution_count": 4,
   "id": "393a3948",
   "metadata": {},
   "outputs": [],
   "source": [
    "# Si vuole che i nodi abbiano indici e che siano ordinati in base a questi. \n",
    "# Gli indici devono partire da 0 e devono essere contigui\n",
    "\n",
    "    # [id, nodi adiacenti, marchio, pre, post]\n",
    "G = [ [0, [1,2], None, None, None], [1, [2, 5], None, None , None], \n",
    "      [2, [], None, None, None], [3, [2], None, None, None], \n",
    "      [4, [3,5], None, None, None], [5, [0, 4], None, None, None] ]\n"
   ]
  },
  {
   "cell_type": "code",
   "execution_count": 8,
   "id": "8e694350",
   "metadata": {},
   "outputs": [],
   "source": [
    "def visitaDFSRicorsiva( G, s, T) :\n",
    "    G[s][2] = 'm'\n",
    "    print(\"nodo {} visitato\".format(s))\n",
    "    for nodo_ad in G[s][1] :\n",
    "        if ( G[nodo_ad][2] == None):\n",
    "            T.append((G[nodo_ad][0], s))\n",
    "            visitaDFSRicorsiva(G, nodo_ad, T)"
   ]
  },
  {
   "cell_type": "code",
   "execution_count": 9,
   "id": "efb1c88c",
   "metadata": {},
   "outputs": [],
   "source": [
    "def visitaDFSRInt( G, s ) :\n",
    "    T = [(G[s][0], None)]\n",
    "    visitaDFSRicorsiva( G, s, T)\n",
    "    return T    # albero delle profondità vettore dei padri"
   ]
  },
  {
   "cell_type": "code",
   "execution_count": 10,
   "id": "ef850727",
   "metadata": {},
   "outputs": [
    {
     "name": "stdout",
     "output_type": "stream",
     "text": [
      "nodo 0 visitato\n",
      "nodo 1 visitato\n",
      "nodo 2 visitato\n",
      "nodo 5 visitato\n",
      "nodo 4 visitato\n",
      "nodo 3 visitato\n"
     ]
    },
    {
     "data": {
      "text/plain": [
       "[(0, None), (1, 0), (2, 1), (5, 1), (4, 5), (3, 4)]"
      ]
     },
     "execution_count": 10,
     "metadata": {},
     "output_type": "execute_result"
    }
   ],
   "source": [
    "visitaDFSRInt(G, 0)"
   ]
  },
  {
   "cell_type": "code",
   "execution_count": 11,
   "id": "e6c34656",
   "metadata": {},
   "outputs": [
    {
     "data": {
      "text/plain": [
       "[[0, [1, 2], 'm', None, None],\n",
       " [1, [2, 5], 'm', None, None],\n",
       " [2, [], 'm', None, None],\n",
       " [3, [2], 'm', None, None],\n",
       " [4, [3, 5], 'm', None, None],\n",
       " [5, [0, 4], 'm', None, None]]"
      ]
     },
     "execution_count": 11,
     "metadata": {},
     "output_type": "execute_result"
    }
   ],
   "source": [
    "G"
   ]
  },
  {
   "cell_type": "code",
   "execution_count": null,
   "id": "f42c04fa",
   "metadata": {},
   "outputs": [],
   "source": []
  }
 ],
 "metadata": {
  "kernelspec": {
   "display_name": "Python 3",
   "language": "python",
   "name": "python3"
  },
  "language_info": {
   "codemirror_mode": {
    "name": "ipython",
    "version": 3
   },
   "file_extension": ".py",
   "mimetype": "text/x-python",
   "name": "python",
   "nbconvert_exporter": "python",
   "pygments_lexer": "ipython3",
   "version": "3.8.5"
  }
 },
 "nbformat": 4,
 "nbformat_minor": 5
}
