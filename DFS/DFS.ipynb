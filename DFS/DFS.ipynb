{
 "cells": [
  {
   "cell_type": "markdown",
   "id": "d6dbcaf1",
   "metadata": {},
   "source": [
    "# DFS visit"
   ]
  },
  {
   "cell_type": "code",
   "execution_count": 4,
   "id": "393a3948",
   "metadata": {},
   "outputs": [],
   "source": [
    "# the nodes must have indexes and have to be ordered by those. \n",
    "# the indexes start from 0 and must be contiguous\n",
    "\n",
    "    # [id, adiacent nodes, mark, pre, post]\n",
    "G = [ [0, [1,2], None, None, None], [1, [2, 5], None, None , None], \n",
    "      [2, [], None, None, None], [3, [2], None, None, None], \n",
    "      [4, [3,5], None, None, None], [5, [0, 4], None, None, None] ]\n"
   ]
  },
  {
   "cell_type": "code",
   "execution_count": 8,
   "id": "8e694350",
   "metadata": {},
   "outputs": [],
   "source": [
    "def visitDFSRecursive( G, s, T) :\n",
    "    G[s][2] = 'm'\n",
    "    print(\"node {} visited\".format(s))\n",
    "    for ad_node in G[s][1] :\n",
    "        if ( G[ad_node][2] == None):\n",
    "            T.append((G[ad_node][0], s))\n",
    "            visitDFSRecursive(G, ad_node, T)"
   ]
  },
  {
   "cell_type": "code",
   "execution_count": 9,
   "id": "efb1c88c",
   "metadata": {},
   "outputs": [],
   "source": [
    "def visitDFSRInt( G, s ) :\n",
    "    T = [(G[s][0], None)]\n",
    "    visitDFSRecursive( G, s, T)\n",
    "    return T    # Depth tree in father's vector form"
   ]
  },
  {
   "cell_type": "code",
   "execution_count": 10,
   "id": "ef850727",
   "metadata": {},
   "outputs": [
    {
     "name": "stdout",
     "output_type": "stream",
     "text": [
      "node 0 visited\n",
      "node 1 visited\n",
      "node 2 visited\n",
      "node 5 visited\n",
      "node 4 visited\n",
      "node 3 visited\n"
     ]
    },
    {
     "data": {
      "text/plain": [
       "[(0, None), (1, 0), (2, 1), (5, 1), (4, 5), (3, 4)]"
      ]
     },
     "execution_count": 10,
     "metadata": {},
     "output_type": "execute_result"
    }
   ],
   "source": [
    "visitDFSRInt(G, 0)"
   ]
  },
  {
   "cell_type": "code",
   "execution_count": 11,
   "id": "e6c34656",
   "metadata": {},
   "outputs": [
    {
     "data": {
      "text/plain": [
       "[[0, [1, 2], 'm', None, None],\n",
       " [1, [2, 5], 'm', None, None],\n",
       " [2, [], 'm', None, None],\n",
       " [3, [2], 'm', None, None],\n",
       " [4, [3, 5], 'm', None, None],\n",
       " [5, [0, 4], 'm', None, None]]"
      ]
     },
     "execution_count": 11,
     "metadata": {},
     "output_type": "execute_result"
    }
   ],
   "source": [
    "G"
   ]
  },
  {
   "cell_type": "code",
   "execution_count": null,
   "id": "f42c04fa",
   "metadata": {},
   "outputs": [],
   "source": []
  }
 ],
 "metadata": {
  "kernelspec": {
   "display_name": "Python 3",
   "language": "python",
   "name": "python3"
  },
  "language_info": {
   "codemirror_mode": {
    "name": "ipython",
    "version": 3
   },
   "file_extension": ".py",
   "mimetype": "text/x-python",
   "name": "python",
   "nbconvert_exporter": "python",
   "pygments_lexer": "ipython3",
   "version": "3.8.5"
  }
 },
 "nbformat": 4,
 "nbformat_minor": 5
}
